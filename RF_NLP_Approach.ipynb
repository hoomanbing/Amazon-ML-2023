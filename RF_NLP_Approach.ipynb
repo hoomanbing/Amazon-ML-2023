{
  "nbformat": 4,
  "nbformat_minor": 0,
  "metadata": {
    "colab": {
      "provenance": [],
      "mount_file_id": "14tiIZW6zVRbC_CbFLL4K3LfomurnN8xU",
      "authorship_tag": "ABX9TyP0DkhheEHQF7aAysbN0pZX"
    },
    "kernelspec": {
      "name": "python3",
      "display_name": "Python 3"
    },
    "language_info": {
      "name": "python"
    }
  },
  "cells": [
    {
      "cell_type": "code",
      "source": [
        "import pandas as pd\n",
        "import numpy as np\n",
        "import matplotlib.pyplot as plt\n",
        "import seaborn as sns\n",
        "from glob import glob\n",
        "import random\n",
        "import re"
      ],
      "metadata": {
        "id": "fwTZz6tBoZZU"
      },
      "execution_count": null,
      "outputs": []
    },
    {
      "cell_type": "code",
      "source": [
        "train = pd.read_csv(\"/content/drive/MyDrive/dataset/train.csv\")"
      ],
      "metadata": {
        "id": "VtIaCxdMogpk"
      },
      "execution_count": null,
      "outputs": []
    },
    {
      "cell_type": "code",
      "source": [
        "test= pd.read_csv(\"/content/drive/MyDrive/dataset/test.csv\")"
      ],
      "metadata": {
        "id": "6MYPX4vGpoF2"
      },
      "execution_count": null,
      "outputs": []
    },
    {
      "cell_type": "code",
      "source": [
        "train.shape, test.shape"
      ],
      "metadata": {
        "colab": {
          "base_uri": "https://localhost:8080/"
        },
        "id": "EwWjtP7rrwuK",
        "outputId": "23a45c8b-8317-4c1d-e06a-f27581f42908"
      },
      "execution_count": null,
      "outputs": [
        {
          "output_type": "execute_result",
          "data": {
            "text/plain": [
              "((2249698, 6), (734736, 5))"
            ]
          },
          "metadata": {},
          "execution_count": 5
        }
      ]
    },
    {
      "cell_type": "code",
      "source": [
        "train.info(memory_usage= True)"
      ],
      "metadata": {
        "colab": {
          "base_uri": "https://localhost:8080/"
        },
        "id": "UGKMizkOsDpu",
        "outputId": "05b6760c-d3da-4762-d4ce-bb4b4d24fbfa"
      },
      "execution_count": null,
      "outputs": [
        {
          "output_type": "stream",
          "name": "stdout",
          "text": [
            "<class 'pandas.core.frame.DataFrame'>\n",
            "RangeIndex: 2249698 entries, 0 to 2249697\n",
            "Data columns (total 6 columns):\n",
            " #   Column           Dtype  \n",
            "---  ------           -----  \n",
            " 0   PRODUCT_ID       int64  \n",
            " 1   TITLE            object \n",
            " 2   BULLET_POINTS    object \n",
            " 3   DESCRIPTION      object \n",
            " 4   PRODUCT_TYPE_ID  int64  \n",
            " 5   PRODUCT_LENGTH   float64\n",
            "dtypes: float64(1), int64(2), object(3)\n",
            "memory usage: 103.0+ MB\n"
          ]
        }
      ]
    },
    {
      "cell_type": "code",
      "source": [
        "train.isna().sum() / len(train)"
      ],
      "metadata": {
        "colab": {
          "base_uri": "https://localhost:8080/"
        },
        "id": "ajB24Mx8sHpT",
        "outputId": "6010e5d5-92de-4ad9-8ccc-988944cbedc8"
      },
      "execution_count": null,
      "outputs": [
        {
          "output_type": "execute_result",
          "data": {
            "text/plain": [
              "PRODUCT_ID         0.000000\n",
              "TITLE              0.000005\n",
              "BULLET_POINTS      0.372212\n",
              "DESCRIPTION        0.514461\n",
              "PRODUCT_TYPE_ID    0.000000\n",
              "PRODUCT_LENGTH     0.000000\n",
              "dtype: float64"
            ]
          },
          "metadata": {},
          "execution_count": 7
        }
      ]
    },
    {
      "cell_type": "code",
      "source": [
        "train.TITLE[0]"
      ],
      "metadata": {
        "colab": {
          "base_uri": "https://localhost:8080/",
          "height": 53
        },
        "id": "W8bnLNEHsK7M",
        "outputId": "61595879-31fc-4e6f-86b4-30a4b19fb716"
      },
      "execution_count": null,
      "outputs": [
        {
          "output_type": "execute_result",
          "data": {
            "text/plain": [
              "'ArtzFolio Tulip Flowers Blackout Curtain for Door, Window & Room | Eyelets & Tie Back | Canvas Fabric | Width 4.5feet (54inch) Height 5 feet (60 inch); Set of 2 PCS'"
            ],
            "application/vnd.google.colaboratory.intrinsic+json": {
              "type": "string"
            }
          },
          "metadata": {},
          "execution_count": 8
        }
      ]
    },
    {
      "cell_type": "code",
      "source": [
        "train.BULLET_POINTS[0]"
      ],
      "metadata": {
        "colab": {
          "base_uri": "https://localhost:8080/",
          "height": 140
        },
        "id": "W4CtM-SpsN2x",
        "outputId": "6863e059-8817-4f65-d7e6-0875e54bc7af"
      },
      "execution_count": null,
      "outputs": [
        {
          "output_type": "execute_result",
          "data": {
            "text/plain": [
              "'[LUXURIOUS & APPEALING: Beautiful custom-made curtains to decorate any home or office | Includes inbuilt tieback to hold the curtain | Completely finished and ready to hang on walls & windows,MATERIAL: Luxurious & versatile fabric with a natural finish | High colour fastness | State-of-the-art digital printing ensures colour consistency and prevents any fading | Eyelets; Cotton Canvas; Width 4.5feet (54inch) | Multicolour | PACKAGE: 2 Room Curtains Eyelets | SIZE: Height 5 feet (60 inch); SET OF 2 PCS,BLACKOUT CURTAIN: 100% opaque & heavy premium cotton canvas fabric | Tight knitted, long life & durable fabric | Printing only on front side with a plain colour back side,MADE TO PERFECTION: Large eyelets at the top to put hanging hooks | Perfectly tailored seams for durability | Refined stitching with a matching thread color,QUALITY ASSURED: Gentle wash with similar colors in cold water | Avoid direct sunlight to prevent fading | Dispatched after MULTIPLE QUALITY CHECKS]'"
            ],
            "application/vnd.google.colaboratory.intrinsic+json": {
              "type": "string"
            }
          },
          "metadata": {},
          "execution_count": 9
        }
      ]
    },
    {
      "cell_type": "code",
      "source": [
        "t = re.sub(r'[\\[\\]]', '', train.BULLET_POINTS[0])\n",
        "t"
      ],
      "metadata": {
        "colab": {
          "base_uri": "https://localhost:8080/",
          "height": 140
        },
        "id": "xVzmLBeEsR6F",
        "outputId": "280c2552-9af8-45f0-f00e-22d16b4d2081"
      },
      "execution_count": null,
      "outputs": [
        {
          "output_type": "execute_result",
          "data": {
            "text/plain": [
              "'LUXURIOUS & APPEALING: Beautiful custom-made curtains to decorate any home or office | Includes inbuilt tieback to hold the curtain | Completely finished and ready to hang on walls & windows,MATERIAL: Luxurious & versatile fabric with a natural finish | High colour fastness | State-of-the-art digital printing ensures colour consistency and prevents any fading | Eyelets; Cotton Canvas; Width 4.5feet (54inch) | Multicolour | PACKAGE: 2 Room Curtains Eyelets | SIZE: Height 5 feet (60 inch); SET OF 2 PCS,BLACKOUT CURTAIN: 100% opaque & heavy premium cotton canvas fabric | Tight knitted, long life & durable fabric | Printing only on front side with a plain colour back side,MADE TO PERFECTION: Large eyelets at the top to put hanging hooks | Perfectly tailored seams for durability | Refined stitching with a matching thread color,QUALITY ASSURED: Gentle wash with similar colors in cold water | Avoid direct sunlight to prevent fading | Dispatched after MULTIPLE QUALITY CHECKS'"
            ],
            "application/vnd.google.colaboratory.intrinsic+json": {
              "type": "string"
            }
          },
          "metadata": {},
          "execution_count": 10
        }
      ]
    },
    {
      "cell_type": "code",
      "source": [
        "t.split('|')"
      ],
      "metadata": {
        "colab": {
          "base_uri": "https://localhost:8080/"
        },
        "id": "SW0dSHYFsUe-",
        "outputId": "2f379808-8bf2-45b0-fc36-8d3ef057bf7f"
      },
      "execution_count": null,
      "outputs": [
        {
          "output_type": "execute_result",
          "data": {
            "text/plain": [
              "['LUXURIOUS & APPEALING: Beautiful custom-made curtains to decorate any home or office ',\n",
              " ' Includes inbuilt tieback to hold the curtain ',\n",
              " ' Completely finished and ready to hang on walls & windows,MATERIAL: Luxurious & versatile fabric with a natural finish ',\n",
              " ' High colour fastness ',\n",
              " ' State-of-the-art digital printing ensures colour consistency and prevents any fading ',\n",
              " ' Eyelets; Cotton Canvas; Width 4.5feet (54inch) ',\n",
              " ' Multicolour ',\n",
              " ' PACKAGE: 2 Room Curtains Eyelets ',\n",
              " ' SIZE: Height 5 feet (60 inch); SET OF 2 PCS,BLACKOUT CURTAIN: 100% opaque & heavy premium cotton canvas fabric ',\n",
              " ' Tight knitted, long life & durable fabric ',\n",
              " ' Printing only on front side with a plain colour back side,MADE TO PERFECTION: Large eyelets at the top to put hanging hooks ',\n",
              " ' Perfectly tailored seams for durability ',\n",
              " ' Refined stitching with a matching thread color,QUALITY ASSURED: Gentle wash with similar colors in cold water ',\n",
              " ' Avoid direct sunlight to prevent fading ',\n",
              " ' Dispatched after MULTIPLE QUALITY CHECKS']"
            ]
          },
          "metadata": {},
          "execution_count": 11
        }
      ]
    },
    {
      "cell_type": "code",
      "source": [
        "train[(train.DESCRIPTION.notna()) & (train['DESCRIPTION'].str.contains('<p>'))]"
      ],
      "metadata": {
        "colab": {
          "base_uri": "https://localhost:8080/",
          "height": 641
        },
        "id": "9If0clCjsWr2",
        "outputId": "435430f0-b0da-4289-fb83-44f8d9d182c3"
      },
      "execution_count": null,
      "outputs": [
        {
          "output_type": "execute_result",
          "data": {
            "text/plain": [
              "         PRODUCT_ID                                              TITLE  \\\n",
              "7           2026580  Delavala Self Adhesive Kitchen Backsplash Wall...   \n",
              "27          2273102  Redgem 925 Silver Stud Earrings for Girls and ...   \n",
              "31          2367805  GEOSHADOW FMB120 High-end Small Light Weight G...   \n",
              "49          2514546  Oswal Multi Berry (300 gm) Wool Hank Hand Knit...   \n",
              "59          2278606  LCD Screen Module, TFT LCD Display Module for ...   \n",
              "...             ...                                                ...   \n",
              "2249633     2025351  Karnya Maroon Printed Kurta For Girls/Women, S...   \n",
              "2249635      925871  MALOUF 600 Thread Count Pillowcase Set - Genui...   \n",
              "2249664     2040617  Gracious Mart - Home & Kitchen Use Container C...   \n",
              "2249668     1527564  ArtzFolio Halloween Night Bulletin Board Notic...   \n",
              "2249694     2766635  (3PCS) Goose Game Cute Cartoon Enamel Pins, Fu...   \n",
              "\n",
              "                                             BULLET_POINTS  \\\n",
              "7        [HIGH QUALITY PVC MATERIAL: The kitchen alumin...   \n",
              "27       [Gemstone: Amethyst: Amethyst is a well known ...   \n",
              "31       [Cost Effective Small Light weight GPS Device,...   \n",
              "49       [<p>📌&nbsp;&nbsp;<b>FIBER COUNT</b>: Acrylic a...   \n",
              "59       [Multifunctional use, can be used for other di...   \n",
              "...                                                    ...   \n",
              "2249633  [Karnya Maroon Printed Kurta For Girls/Women, ...   \n",
              "2249635  [100% single-ply, long-staple, authentic Egypt...   \n",
              "2249664  [HIGH QUALITY DURABLE GLASS CANISTERS: The sta...   \n",
              "2249668  [MULTI-PURPOSE USE: Flexible mounting | Use it...   \n",
              "2249694  [❤ [Inspiration] Inspired by the Untitled Goos...   \n",
              "\n",
              "                                               DESCRIPTION  PRODUCT_TYPE_ID  \\\n",
              "7        <p><strong>Aluminum Foil Stickers-good kitchen...             6030   \n",
              "27       <p>These Stylish Earring for Women and Girls a...             3357   \n",
              "31       <p>FMB120 small and professional tracker with ...             2136   \n",
              "49       <p>✔ This wool for knitting is good as a croch...            11192   \n",
              "59       <p><b>Feature:</b></p><p>1. 480X320 HD resolut...              646   \n",
              "...                                                    ...              ...   \n",
              "2249633  <p>This Beautiful kurta/kurta set From karnya ...             2916   \n",
              "2249635  <p><b>Authentic Egyptian Cotton</b><br />This ...            12083   \n",
              "2249664  <p><b>&nbsp; &nbsp; &nbsp; &nbsp;_GRACIOUS MAR...             1252   \n",
              "2249668  <p><strong>Pin Board; Natural Brown Frame || S...             5267   \n",
              "2249694  <p><b>[Brand]: </b>XVIEONR</p> <p><br></p> <p>...             3413   \n",
              "\n",
              "         PRODUCT_LENGTH  \n",
              "7            984.251967  \n",
              "27            31.496000  \n",
              "31           255.905000  \n",
              "49           590.551180  \n",
              "59            39.370079  \n",
              "...                 ...  \n",
              "2249633     1515.748030  \n",
              "2249635       39.370079  \n",
              "2249664      472.440944  \n",
              "2249668     1730.000000  \n",
              "2249694      125.984252  \n",
              "\n",
              "[138809 rows x 6 columns]"
            ],
            "text/html": [
              "\n",
              "  <div id=\"df-1d83ee64-b5dc-4cba-9503-b8ada6f84dc9\">\n",
              "    <div class=\"colab-df-container\">\n",
              "      <div>\n",
              "<style scoped>\n",
              "    .dataframe tbody tr th:only-of-type {\n",
              "        vertical-align: middle;\n",
              "    }\n",
              "\n",
              "    .dataframe tbody tr th {\n",
              "        vertical-align: top;\n",
              "    }\n",
              "\n",
              "    .dataframe thead th {\n",
              "        text-align: right;\n",
              "    }\n",
              "</style>\n",
              "<table border=\"1\" class=\"dataframe\">\n",
              "  <thead>\n",
              "    <tr style=\"text-align: right;\">\n",
              "      <th></th>\n",
              "      <th>PRODUCT_ID</th>\n",
              "      <th>TITLE</th>\n",
              "      <th>BULLET_POINTS</th>\n",
              "      <th>DESCRIPTION</th>\n",
              "      <th>PRODUCT_TYPE_ID</th>\n",
              "      <th>PRODUCT_LENGTH</th>\n",
              "    </tr>\n",
              "  </thead>\n",
              "  <tbody>\n",
              "    <tr>\n",
              "      <th>7</th>\n",
              "      <td>2026580</td>\n",
              "      <td>Delavala Self Adhesive Kitchen Backsplash Wall...</td>\n",
              "      <td>[HIGH QUALITY PVC MATERIAL: The kitchen alumin...</td>\n",
              "      <td>&lt;p&gt;&lt;strong&gt;Aluminum Foil Stickers-good kitchen...</td>\n",
              "      <td>6030</td>\n",
              "      <td>984.251967</td>\n",
              "    </tr>\n",
              "    <tr>\n",
              "      <th>27</th>\n",
              "      <td>2273102</td>\n",
              "      <td>Redgem 925 Silver Stud Earrings for Girls and ...</td>\n",
              "      <td>[Gemstone: Amethyst: Amethyst is a well known ...</td>\n",
              "      <td>&lt;p&gt;These Stylish Earring for Women and Girls a...</td>\n",
              "      <td>3357</td>\n",
              "      <td>31.496000</td>\n",
              "    </tr>\n",
              "    <tr>\n",
              "      <th>31</th>\n",
              "      <td>2367805</td>\n",
              "      <td>GEOSHADOW FMB120 High-end Small Light Weight G...</td>\n",
              "      <td>[Cost Effective Small Light weight GPS Device,...</td>\n",
              "      <td>&lt;p&gt;FMB120 small and professional tracker with ...</td>\n",
              "      <td>2136</td>\n",
              "      <td>255.905000</td>\n",
              "    </tr>\n",
              "    <tr>\n",
              "      <th>49</th>\n",
              "      <td>2514546</td>\n",
              "      <td>Oswal Multi Berry (300 gm) Wool Hank Hand Knit...</td>\n",
              "      <td>[&lt;p&gt;📌&amp;nbsp;&amp;nbsp;&lt;b&gt;FIBER COUNT&lt;/b&gt;: Acrylic a...</td>\n",
              "      <td>&lt;p&gt;✔ This wool for knitting is good as a croch...</td>\n",
              "      <td>11192</td>\n",
              "      <td>590.551180</td>\n",
              "    </tr>\n",
              "    <tr>\n",
              "      <th>59</th>\n",
              "      <td>2278606</td>\n",
              "      <td>LCD Screen Module, TFT LCD Display Module for ...</td>\n",
              "      <td>[Multifunctional use, can be used for other di...</td>\n",
              "      <td>&lt;p&gt;&lt;b&gt;Feature:&lt;/b&gt;&lt;/p&gt;&lt;p&gt;1. 480X320 HD resolut...</td>\n",
              "      <td>646</td>\n",
              "      <td>39.370079</td>\n",
              "    </tr>\n",
              "    <tr>\n",
              "      <th>...</th>\n",
              "      <td>...</td>\n",
              "      <td>...</td>\n",
              "      <td>...</td>\n",
              "      <td>...</td>\n",
              "      <td>...</td>\n",
              "      <td>...</td>\n",
              "    </tr>\n",
              "    <tr>\n",
              "      <th>2249633</th>\n",
              "      <td>2025351</td>\n",
              "      <td>Karnya Maroon Printed Kurta For Girls/Women, S...</td>\n",
              "      <td>[Karnya Maroon Printed Kurta For Girls/Women, ...</td>\n",
              "      <td>&lt;p&gt;This Beautiful kurta/kurta set From karnya ...</td>\n",
              "      <td>2916</td>\n",
              "      <td>1515.748030</td>\n",
              "    </tr>\n",
              "    <tr>\n",
              "      <th>2249635</th>\n",
              "      <td>925871</td>\n",
              "      <td>MALOUF 600 Thread Count Pillowcase Set - Genui...</td>\n",
              "      <td>[100% single-ply, long-staple, authentic Egypt...</td>\n",
              "      <td>&lt;p&gt;&lt;b&gt;Authentic Egyptian Cotton&lt;/b&gt;&lt;br /&gt;This ...</td>\n",
              "      <td>12083</td>\n",
              "      <td>39.370079</td>\n",
              "    </tr>\n",
              "    <tr>\n",
              "      <th>2249664</th>\n",
              "      <td>2040617</td>\n",
              "      <td>Gracious Mart - Home &amp; Kitchen Use Container C...</td>\n",
              "      <td>[HIGH QUALITY DURABLE GLASS CANISTERS: The sta...</td>\n",
              "      <td>&lt;p&gt;&lt;b&gt;&amp;nbsp; &amp;nbsp; &amp;nbsp; &amp;nbsp;_GRACIOUS MAR...</td>\n",
              "      <td>1252</td>\n",
              "      <td>472.440944</td>\n",
              "    </tr>\n",
              "    <tr>\n",
              "      <th>2249668</th>\n",
              "      <td>1527564</td>\n",
              "      <td>ArtzFolio Halloween Night Bulletin Board Notic...</td>\n",
              "      <td>[MULTI-PURPOSE USE: Flexible mounting | Use it...</td>\n",
              "      <td>&lt;p&gt;&lt;strong&gt;Pin Board; Natural Brown Frame || S...</td>\n",
              "      <td>5267</td>\n",
              "      <td>1730.000000</td>\n",
              "    </tr>\n",
              "    <tr>\n",
              "      <th>2249694</th>\n",
              "      <td>2766635</td>\n",
              "      <td>(3PCS) Goose Game Cute Cartoon Enamel Pins, Fu...</td>\n",
              "      <td>[❤ [Inspiration] Inspired by the Untitled Goos...</td>\n",
              "      <td>&lt;p&gt;&lt;b&gt;[Brand]: &lt;/b&gt;XVIEONR&lt;/p&gt; &lt;p&gt;&lt;br&gt;&lt;/p&gt; &lt;p&gt;...</td>\n",
              "      <td>3413</td>\n",
              "      <td>125.984252</td>\n",
              "    </tr>\n",
              "  </tbody>\n",
              "</table>\n",
              "<p>138809 rows × 6 columns</p>\n",
              "</div>\n",
              "      <button class=\"colab-df-convert\" onclick=\"convertToInteractive('df-1d83ee64-b5dc-4cba-9503-b8ada6f84dc9')\"\n",
              "              title=\"Convert this dataframe to an interactive table.\"\n",
              "              style=\"display:none;\">\n",
              "        \n",
              "  <svg xmlns=\"http://www.w3.org/2000/svg\" height=\"24px\"viewBox=\"0 0 24 24\"\n",
              "       width=\"24px\">\n",
              "    <path d=\"M0 0h24v24H0V0z\" fill=\"none\"/>\n",
              "    <path d=\"M18.56 5.44l.94 2.06.94-2.06 2.06-.94-2.06-.94-.94-2.06-.94 2.06-2.06.94zm-11 1L8.5 8.5l.94-2.06 2.06-.94-2.06-.94L8.5 2.5l-.94 2.06-2.06.94zm10 10l.94 2.06.94-2.06 2.06-.94-2.06-.94-.94-2.06-.94 2.06-2.06.94z\"/><path d=\"M17.41 7.96l-1.37-1.37c-.4-.4-.92-.59-1.43-.59-.52 0-1.04.2-1.43.59L10.3 9.45l-7.72 7.72c-.78.78-.78 2.05 0 2.83L4 21.41c.39.39.9.59 1.41.59.51 0 1.02-.2 1.41-.59l7.78-7.78 2.81-2.81c.8-.78.8-2.07 0-2.86zM5.41 20L4 18.59l7.72-7.72 1.47 1.35L5.41 20z\"/>\n",
              "  </svg>\n",
              "      </button>\n",
              "      \n",
              "  <style>\n",
              "    .colab-df-container {\n",
              "      display:flex;\n",
              "      flex-wrap:wrap;\n",
              "      gap: 12px;\n",
              "    }\n",
              "\n",
              "    .colab-df-convert {\n",
              "      background-color: #E8F0FE;\n",
              "      border: none;\n",
              "      border-radius: 50%;\n",
              "      cursor: pointer;\n",
              "      display: none;\n",
              "      fill: #1967D2;\n",
              "      height: 32px;\n",
              "      padding: 0 0 0 0;\n",
              "      width: 32px;\n",
              "    }\n",
              "\n",
              "    .colab-df-convert:hover {\n",
              "      background-color: #E2EBFA;\n",
              "      box-shadow: 0px 1px 2px rgba(60, 64, 67, 0.3), 0px 1px 3px 1px rgba(60, 64, 67, 0.15);\n",
              "      fill: #174EA6;\n",
              "    }\n",
              "\n",
              "    [theme=dark] .colab-df-convert {\n",
              "      background-color: #3B4455;\n",
              "      fill: #D2E3FC;\n",
              "    }\n",
              "\n",
              "    [theme=dark] .colab-df-convert:hover {\n",
              "      background-color: #434B5C;\n",
              "      box-shadow: 0px 1px 3px 1px rgba(0, 0, 0, 0.15);\n",
              "      filter: drop-shadow(0px 1px 2px rgba(0, 0, 0, 0.3));\n",
              "      fill: #FFFFFF;\n",
              "    }\n",
              "  </style>\n",
              "\n",
              "      <script>\n",
              "        const buttonEl =\n",
              "          document.querySelector('#df-1d83ee64-b5dc-4cba-9503-b8ada6f84dc9 button.colab-df-convert');\n",
              "        buttonEl.style.display =\n",
              "          google.colab.kernel.accessAllowed ? 'block' : 'none';\n",
              "\n",
              "        async function convertToInteractive(key) {\n",
              "          const element = document.querySelector('#df-1d83ee64-b5dc-4cba-9503-b8ada6f84dc9');\n",
              "          const dataTable =\n",
              "            await google.colab.kernel.invokeFunction('convertToInteractive',\n",
              "                                                     [key], {});\n",
              "          if (!dataTable) return;\n",
              "\n",
              "          const docLinkHtml = 'Like what you see? Visit the ' +\n",
              "            '<a target=\"_blank\" href=https://colab.research.google.com/notebooks/data_table.ipynb>data table notebook</a>'\n",
              "            + ' to learn more about interactive tables.';\n",
              "          element.innerHTML = '';\n",
              "          dataTable['output_type'] = 'display_data';\n",
              "          await google.colab.output.renderOutput(dataTable, element);\n",
              "          const docLink = document.createElement('div');\n",
              "          docLink.innerHTML = docLinkHtml;\n",
              "          element.appendChild(docLink);\n",
              "        }\n",
              "      </script>\n",
              "    </div>\n",
              "  </div>\n",
              "  "
            ]
          },
          "metadata": {},
          "execution_count": 12
        }
      ]
    },
    {
      "cell_type": "code",
      "source": [
        "train.PRODUCT_TYPE_ID.value_counts()"
      ],
      "metadata": {
        "colab": {
          "base_uri": "https://localhost:8080/"
        },
        "id": "C-bbbWitsajO",
        "outputId": "cff97eff-f300-43e5-927c-2dede9db8a6b"
      },
      "execution_count": null,
      "outputs": [
        {
          "output_type": "execute_result",
          "data": {
            "text/plain": [
              "1        121199\n",
              "12064     57554\n",
              "0         50505\n",
              "123       31527\n",
              "6104      29690\n",
              "          ...  \n",
              "7239          1\n",
              "12536         1\n",
              "4114          1\n",
              "3229          1\n",
              "4505          1\n",
              "Name: PRODUCT_TYPE_ID, Length: 12907, dtype: int64"
            ]
          },
          "metadata": {},
          "execution_count": 13
        }
      ]
    },
    {
      "cell_type": "code",
      "source": [
        "zero_item = train.query('PRODUCT_TYPE_ID == 1')\n",
        "\" >>> \".join(zero_item.TITLE[:10]).split('>>>')"
      ],
      "metadata": {
        "colab": {
          "base_uri": "https://localhost:8080/"
        },
        "id": "ISSk4YY9sdZR",
        "outputId": "ee59004f-c941-4471-a555-c8257f4e0871"
      },
      "execution_count": null,
      "outputs": [
        {
          "output_type": "execute_result",
          "data": {
            "text/plain": [
              "['La Mure / Valbonnais gps ',\n",
              " \" J'ecris des lettres! premiers exercices d'écriture 5-6 ans \",\n",
              " ' 100 clés des villes sœurs.\\xa0Eu - Le Tréport - Mers- ',\n",
              " ' Duden Kindergarten Lexikon ',\n",
              " ' Four Seasons 2020 Calendar ',\n",
              " ' I Love Sloths More Than You: Blank Lined Journal Notebook Diary For Girls Boys Students And Teachers ',\n",
              " ' Selbstorganisation, 2.A. ',\n",
              " ' Stella Rising (Orca Soundings) ',\n",
              " ' Tales of Cydonia: Volume Two: Cydonia Labyrinthus: Volume 2 ',\n",
              " ' Dryden; stanzas on the death of Oliver Cromwell : Astraea Redux. Annus Mirabilis; Absalom and Achitophel; Religio laici; the Hind and the panther']"
            ]
          },
          "metadata": {},
          "execution_count": 14
        }
      ]
    },
    {
      "cell_type": "code",
      "source": [
        "def clean_train_data(train):\n",
        "    to_remove=['<p>','</p>','<b>','</b>','<strong>','</strong>','<br>','</br>','<br/>','<ul>','<li>','</ul>','</li>','<i>','</i>','<b/>',':<br />','<em>','</em>',':-</em> ','<br />','</P>','<ol>','</ol>','<BR>','<li class=\"measurements\">','<B>','</B>','<Br>','<P>','<sub>','</sub>','<Strong>','</Strong>','<p >','<sup>','</sup>','<sup>','</sup>','<br>','</br>','>*<']\n",
        "    for i in to_remove:\n",
        "        train['DESCRIPTION']=train['DESCRIPTION'].str.replace(i,'')\n",
        "    train['DESCRIPTION']=train['DESCRIPTION'].str.replace('✔','')\n",
        "    \n",
        "    for i in to_remove:\n",
        "        train['BULLET_POINTS']=train['BULLET_POINTS'].str.replace(i,'')\n",
        "    train['BULLET_POINTS']=train['BULLET_POINTS'].str.replace('✔','')\n",
        "    \n",
        "    pattern = re.compile(r'[^a-zA-Z0-9\\s]')\n",
        "    train['DESCRIPTION']=train['DESCRIPTION'].str.replace(pattern,'')\n",
        "    \n",
        "    train['BULLET_POINTS']=train['BULLET_POINTS'].str.replace(pattern,'')\n",
        "    for i in to_remove:\n",
        "        train['TITLE']=train['TITLE'].str.replace(i,'')\n",
        "    \n",
        "    train['DESCRIPTION'].fillna('',inplace=True)\n",
        "    train['BULLET_POINTS'].fillna('',inplace=True)\n",
        "    \n",
        "    def replace_char(string):\n",
        "        return re.sub(r'[\\[\\]]', '', string)\n",
        "    train['BULLET_POINTS'] = train['BULLET_POINTS'].apply(replace_char)"
      ],
      "metadata": {
        "id": "9X6jTL0psgzS"
      },
      "execution_count": null,
      "outputs": []
    },
    {
      "cell_type": "code",
      "source": [
        "clean_train_data(train)"
      ],
      "metadata": {
        "colab": {
          "base_uri": "https://localhost:8080/"
        },
        "id": "jvvPmZ5iskue",
        "outputId": "6409f7a6-ea27-416e-c225-28efec73792e"
      },
      "execution_count": null,
      "outputs": [
        {
          "output_type": "stream",
          "name": "stderr",
          "text": [
            "<ipython-input-15-8bdec0ae8a31>:4: FutureWarning: The default value of regex will change from True to False in a future version.\n",
            "  train['DESCRIPTION']=train['DESCRIPTION'].str.replace(i,'')\n",
            "<ipython-input-15-8bdec0ae8a31>:8: FutureWarning: The default value of regex will change from True to False in a future version.\n",
            "  train['BULLET_POINTS']=train['BULLET_POINTS'].str.replace(i,'')\n",
            "<ipython-input-15-8bdec0ae8a31>:16: FutureWarning: The default value of regex will change from True to False in a future version.\n",
            "  train['TITLE']=train['TITLE'].str.replace(i,'')\n"
          ]
        }
      ]
    },
    {
      "cell_type": "code",
      "source": [
        "train.head(10)"
      ],
      "metadata": {
        "colab": {
          "base_uri": "https://localhost:8080/",
          "height": 2553
        },
        "id": "J8GBH6eguX0Y",
        "outputId": "17ecc126-fea6-4248-cc3d-a4b1df12fea8"
      },
      "execution_count": null,
      "outputs": [
        {
          "output_type": "execute_result",
          "data": {
            "text/plain": [
              "   PRODUCT_ID                                              TITLE  \\\n",
              "0     1925202  ArtzFolio Tulip Flowers Blackout Curtain for D...   \n",
              "1     2673191  Marks & Spencer Girls' Pyjama Sets T86_2561C_N...   \n",
              "2     2765088  PRIKNIK Horn Red Electric Air Horn Compressor ...   \n",
              "3     1594019  ALISHAH Women's Cotton Ankle Length Leggings C...   \n",
              "4      283658  The United Empire Loyalists: A Chronicle of th...   \n",
              "5     2152929  HINS Metal Bucket Shape Plant Pot for Indoor &...   \n",
              "6      413758                      Ungifted: My Life and Journey   \n",
              "7     2026580  Delavala Self Adhesive Kitchen Backsplash Wall...   \n",
              "8     2050239  PUMA Cali Sport Clean Women's Sneakers White L...   \n",
              "9     2998633  Hexwell Essential oil for Home Fragrance Oil A...   \n",
              "\n",
              "                                       BULLET_POINTS  \\\n",
              "0  [LUXURIOUS & APPEALING: Beautiful custom-made ...   \n",
              "1  [Harry Potter Hedwig Pyjamas (6-16 Yrs),100% c...   \n",
              "2  [Loud Dual Tone Trumpet Horn, Compatible With ...   \n",
              "3  [Made By 95%cotton and 5% Lycra which gives yo...   \n",
              "4                                                NaN   \n",
              "5  [Simple and elegant, great for displaying indo...   \n",
              "6                                                NaN   \n",
              "7  [HIGH QUALITY PVC MATERIAL: The kitchen alumin...   \n",
              "8  [Style Name:-Cali Sport Clean Women's Sneakers...   \n",
              "9  [100% Pure And Natural Essential Oil Or Fragra...   \n",
              "\n",
              "                                         DESCRIPTION  PRODUCT_TYPE_ID  \\\n",
              "0                                                NaN             1650   \n",
              "1                                                NaN             2755   \n",
              "2  Specifications: Color: Red, Material: Aluminiu...             7537   \n",
              "3  AISHAH Women's Lycra Cotton Ankel Leggings. Br...             2996   \n",
              "4                                                NaN             6112   \n",
              "5  HINS Brings you the most Elegant Looking Pot w...             5725   \n",
              "6                                                NaN               23   \n",
              "7  <p><strong>Aluminum Foil Stickers-good kitchen...             6030   \n",
              "8                                                NaN             3302   \n",
              "9  Transform your home, workplace or hotel room i...             8201   \n",
              "\n",
              "   PRODUCT_LENGTH  \n",
              "0     2125.980000  \n",
              "1      393.700000  \n",
              "2      748.031495  \n",
              "3      787.401574  \n",
              "4      598.424000  \n",
              "5      950.000000  \n",
              "6      598.000000  \n",
              "7      984.251967  \n",
              "8      393.700000  \n",
              "9      393.700787  "
            ],
            "text/html": [
              "\n",
              "  <div id=\"df-bf1ea5cd-6e65-4230-a0ca-62126c0c1b11\">\n",
              "    <div class=\"colab-df-container\">\n",
              "      <div>\n",
              "<style scoped>\n",
              "    .dataframe tbody tr th:only-of-type {\n",
              "        vertical-align: middle;\n",
              "    }\n",
              "\n",
              "    .dataframe tbody tr th {\n",
              "        vertical-align: top;\n",
              "    }\n",
              "\n",
              "    .dataframe thead th {\n",
              "        text-align: right;\n",
              "    }\n",
              "</style>\n",
              "<table border=\"1\" class=\"dataframe\">\n",
              "  <thead>\n",
              "    <tr style=\"text-align: right;\">\n",
              "      <th></th>\n",
              "      <th>PRODUCT_ID</th>\n",
              "      <th>TITLE</th>\n",
              "      <th>BULLET_POINTS</th>\n",
              "      <th>DESCRIPTION</th>\n",
              "      <th>PRODUCT_TYPE_ID</th>\n",
              "      <th>PRODUCT_LENGTH</th>\n",
              "    </tr>\n",
              "  </thead>\n",
              "  <tbody>\n",
              "    <tr>\n",
              "      <th>0</th>\n",
              "      <td>1925202</td>\n",
              "      <td>ArtzFolio Tulip Flowers Blackout Curtain for D...</td>\n",
              "      <td>[LUXURIOUS &amp; APPEALING: Beautiful custom-made ...</td>\n",
              "      <td>NaN</td>\n",
              "      <td>1650</td>\n",
              "      <td>2125.980000</td>\n",
              "    </tr>\n",
              "    <tr>\n",
              "      <th>1</th>\n",
              "      <td>2673191</td>\n",
              "      <td>Marks &amp; Spencer Girls' Pyjama Sets T86_2561C_N...</td>\n",
              "      <td>[Harry Potter Hedwig Pyjamas (6-16 Yrs),100% c...</td>\n",
              "      <td>NaN</td>\n",
              "      <td>2755</td>\n",
              "      <td>393.700000</td>\n",
              "    </tr>\n",
              "    <tr>\n",
              "      <th>2</th>\n",
              "      <td>2765088</td>\n",
              "      <td>PRIKNIK Horn Red Electric Air Horn Compressor ...</td>\n",
              "      <td>[Loud Dual Tone Trumpet Horn, Compatible With ...</td>\n",
              "      <td>Specifications: Color: Red, Material: Aluminiu...</td>\n",
              "      <td>7537</td>\n",
              "      <td>748.031495</td>\n",
              "    </tr>\n",
              "    <tr>\n",
              "      <th>3</th>\n",
              "      <td>1594019</td>\n",
              "      <td>ALISHAH Women's Cotton Ankle Length Leggings C...</td>\n",
              "      <td>[Made By 95%cotton and 5% Lycra which gives yo...</td>\n",
              "      <td>AISHAH Women's Lycra Cotton Ankel Leggings. Br...</td>\n",
              "      <td>2996</td>\n",
              "      <td>787.401574</td>\n",
              "    </tr>\n",
              "    <tr>\n",
              "      <th>4</th>\n",
              "      <td>283658</td>\n",
              "      <td>The United Empire Loyalists: A Chronicle of th...</td>\n",
              "      <td>NaN</td>\n",
              "      <td>NaN</td>\n",
              "      <td>6112</td>\n",
              "      <td>598.424000</td>\n",
              "    </tr>\n",
              "    <tr>\n",
              "      <th>5</th>\n",
              "      <td>2152929</td>\n",
              "      <td>HINS Metal Bucket Shape Plant Pot for Indoor &amp;...</td>\n",
              "      <td>[Simple and elegant, great for displaying indo...</td>\n",
              "      <td>HINS Brings you the most Elegant Looking Pot w...</td>\n",
              "      <td>5725</td>\n",
              "      <td>950.000000</td>\n",
              "    </tr>\n",
              "    <tr>\n",
              "      <th>6</th>\n",
              "      <td>413758</td>\n",
              "      <td>Ungifted: My Life and Journey</td>\n",
              "      <td>NaN</td>\n",
              "      <td>NaN</td>\n",
              "      <td>23</td>\n",
              "      <td>598.000000</td>\n",
              "    </tr>\n",
              "    <tr>\n",
              "      <th>7</th>\n",
              "      <td>2026580</td>\n",
              "      <td>Delavala Self Adhesive Kitchen Backsplash Wall...</td>\n",
              "      <td>[HIGH QUALITY PVC MATERIAL: The kitchen alumin...</td>\n",
              "      <td>&lt;p&gt;&lt;strong&gt;Aluminum Foil Stickers-good kitchen...</td>\n",
              "      <td>6030</td>\n",
              "      <td>984.251967</td>\n",
              "    </tr>\n",
              "    <tr>\n",
              "      <th>8</th>\n",
              "      <td>2050239</td>\n",
              "      <td>PUMA Cali Sport Clean Women's Sneakers White L...</td>\n",
              "      <td>[Style Name:-Cali Sport Clean Women's Sneakers...</td>\n",
              "      <td>NaN</td>\n",
              "      <td>3302</td>\n",
              "      <td>393.700000</td>\n",
              "    </tr>\n",
              "    <tr>\n",
              "      <th>9</th>\n",
              "      <td>2998633</td>\n",
              "      <td>Hexwell Essential oil for Home Fragrance Oil A...</td>\n",
              "      <td>[100% Pure And Natural Essential Oil Or Fragra...</td>\n",
              "      <td>Transform your home, workplace or hotel room i...</td>\n",
              "      <td>8201</td>\n",
              "      <td>393.700787</td>\n",
              "    </tr>\n",
              "  </tbody>\n",
              "</table>\n",
              "</div>\n",
              "      <button class=\"colab-df-convert\" onclick=\"convertToInteractive('df-bf1ea5cd-6e65-4230-a0ca-62126c0c1b11')\"\n",
              "              title=\"Convert this dataframe to an interactive table.\"\n",
              "              style=\"display:none;\">\n",
              "        \n",
              "  <svg xmlns=\"http://www.w3.org/2000/svg\" height=\"24px\"viewBox=\"0 0 24 24\"\n",
              "       width=\"24px\">\n",
              "    <path d=\"M0 0h24v24H0V0z\" fill=\"none\"/>\n",
              "    <path d=\"M18.56 5.44l.94 2.06.94-2.06 2.06-.94-2.06-.94-.94-2.06-.94 2.06-2.06.94zm-11 1L8.5 8.5l.94-2.06 2.06-.94-2.06-.94L8.5 2.5l-.94 2.06-2.06.94zm10 10l.94 2.06.94-2.06 2.06-.94-2.06-.94-.94-2.06-.94 2.06-2.06.94z\"/><path d=\"M17.41 7.96l-1.37-1.37c-.4-.4-.92-.59-1.43-.59-.52 0-1.04.2-1.43.59L10.3 9.45l-7.72 7.72c-.78.78-.78 2.05 0 2.83L4 21.41c.39.39.9.59 1.41.59.51 0 1.02-.2 1.41-.59l7.78-7.78 2.81-2.81c.8-.78.8-2.07 0-2.86zM5.41 20L4 18.59l7.72-7.72 1.47 1.35L5.41 20z\"/>\n",
              "  </svg>\n",
              "      </button>\n",
              "      \n",
              "  <style>\n",
              "    .colab-df-container {\n",
              "      display:flex;\n",
              "      flex-wrap:wrap;\n",
              "      gap: 12px;\n",
              "    }\n",
              "\n",
              "    .colab-df-convert {\n",
              "      background-color: #E8F0FE;\n",
              "      border: none;\n",
              "      border-radius: 50%;\n",
              "      cursor: pointer;\n",
              "      display: none;\n",
              "      fill: #1967D2;\n",
              "      height: 32px;\n",
              "      padding: 0 0 0 0;\n",
              "      width: 32px;\n",
              "    }\n",
              "\n",
              "    .colab-df-convert:hover {\n",
              "      background-color: #E2EBFA;\n",
              "      box-shadow: 0px 1px 2px rgba(60, 64, 67, 0.3), 0px 1px 3px 1px rgba(60, 64, 67, 0.15);\n",
              "      fill: #174EA6;\n",
              "    }\n",
              "\n",
              "    [theme=dark] .colab-df-convert {\n",
              "      background-color: #3B4455;\n",
              "      fill: #D2E3FC;\n",
              "    }\n",
              "\n",
              "    [theme=dark] .colab-df-convert:hover {\n",
              "      background-color: #434B5C;\n",
              "      box-shadow: 0px 1px 3px 1px rgba(0, 0, 0, 0.15);\n",
              "      filter: drop-shadow(0px 1px 2px rgba(0, 0, 0, 0.3));\n",
              "      fill: #FFFFFF;\n",
              "    }\n",
              "  </style>\n",
              "\n",
              "      <script>\n",
              "        const buttonEl =\n",
              "          document.querySelector('#df-bf1ea5cd-6e65-4230-a0ca-62126c0c1b11 button.colab-df-convert');\n",
              "        buttonEl.style.display =\n",
              "          google.colab.kernel.accessAllowed ? 'block' : 'none';\n",
              "\n",
              "        async function convertToInteractive(key) {\n",
              "          const element = document.querySelector('#df-bf1ea5cd-6e65-4230-a0ca-62126c0c1b11');\n",
              "          const dataTable =\n",
              "            await google.colab.kernel.invokeFunction('convertToInteractive',\n",
              "                                                     [key], {});\n",
              "          if (!dataTable) return;\n",
              "\n",
              "          const docLinkHtml = 'Like what you see? Visit the ' +\n",
              "            '<a target=\"_blank\" href=https://colab.research.google.com/notebooks/data_table.ipynb>data table notebook</a>'\n",
              "            + ' to learn more about interactive tables.';\n",
              "          element.innerHTML = '';\n",
              "          dataTable['output_type'] = 'display_data';\n",
              "          await google.colab.output.renderOutput(dataTable, element);\n",
              "          const docLink = document.createElement('div');\n",
              "          docLink.innerHTML = docLinkHtml;\n",
              "          element.appendChild(docLink);\n",
              "        }\n",
              "      </script>\n",
              "    </div>\n",
              "  </div>\n",
              "  "
            ]
          },
          "metadata": {},
          "execution_count": 4
        }
      ]
    },
    {
      "cell_type": "code",
      "source": [
        "from sklearn.feature_extraction.text import TfidfVectorizer\n",
        "from sklearn.ensemble import RandomForestRegressor"
      ],
      "metadata": {
        "id": "0MMXoa0Ovg7r"
      },
      "execution_count": null,
      "outputs": []
    },
    {
      "cell_type": "code",
      "source": [
        "train_data = train.sample(n=10000, random_state=42)"
      ],
      "metadata": {
        "id": "ibl941qtvlDI"
      },
      "execution_count": null,
      "outputs": []
    },
    {
      "cell_type": "code",
      "source": [
        "vectorizer = TfidfVectorizer(stop_words='english')\n",
        "train_features = vectorizer.fit_transform(train_data['TITLE'].fillna('') + ' ' + train_data['DESCRIPTION'].fillna('') + ' ' + train_data['BULLET_POINTS'].fillna(''))"
      ],
      "metadata": {
        "id": "fxN30C2FvuyK"
      },
      "execution_count": null,
      "outputs": []
    },
    {
      "cell_type": "code",
      "source": [
        "model = RandomForestRegressor(n_estimators=100, random_state=42)\n",
        "model.fit(train_features, train_data['PRODUCT_LENGTH'])"
      ],
      "metadata": {
        "colab": {
          "base_uri": "https://localhost:8080/",
          "height": 74
        },
        "id": "qXNqQazyv0Hy",
        "outputId": "3bcda8e4-8859-4ec8-cff4-5c222a9f2c4e"
      },
      "execution_count": null,
      "outputs": [
        {
          "output_type": "execute_result",
          "data": {
            "text/plain": [
              "RandomForestRegressor(random_state=42)"
            ],
            "text/html": [
              "<style>#sk-container-id-1 {color: black;background-color: white;}#sk-container-id-1 pre{padding: 0;}#sk-container-id-1 div.sk-toggleable {background-color: white;}#sk-container-id-1 label.sk-toggleable__label {cursor: pointer;display: block;width: 100%;margin-bottom: 0;padding: 0.3em;box-sizing: border-box;text-align: center;}#sk-container-id-1 label.sk-toggleable__label-arrow:before {content: \"▸\";float: left;margin-right: 0.25em;color: #696969;}#sk-container-id-1 label.sk-toggleable__label-arrow:hover:before {color: black;}#sk-container-id-1 div.sk-estimator:hover label.sk-toggleable__label-arrow:before {color: black;}#sk-container-id-1 div.sk-toggleable__content {max-height: 0;max-width: 0;overflow: hidden;text-align: left;background-color: #f0f8ff;}#sk-container-id-1 div.sk-toggleable__content pre {margin: 0.2em;color: black;border-radius: 0.25em;background-color: #f0f8ff;}#sk-container-id-1 input.sk-toggleable__control:checked~div.sk-toggleable__content {max-height: 200px;max-width: 100%;overflow: auto;}#sk-container-id-1 input.sk-toggleable__control:checked~label.sk-toggleable__label-arrow:before {content: \"▾\";}#sk-container-id-1 div.sk-estimator input.sk-toggleable__control:checked~label.sk-toggleable__label {background-color: #d4ebff;}#sk-container-id-1 div.sk-label input.sk-toggleable__control:checked~label.sk-toggleable__label {background-color: #d4ebff;}#sk-container-id-1 input.sk-hidden--visually {border: 0;clip: rect(1px 1px 1px 1px);clip: rect(1px, 1px, 1px, 1px);height: 1px;margin: -1px;overflow: hidden;padding: 0;position: absolute;width: 1px;}#sk-container-id-1 div.sk-estimator {font-family: monospace;background-color: #f0f8ff;border: 1px dotted black;border-radius: 0.25em;box-sizing: border-box;margin-bottom: 0.5em;}#sk-container-id-1 div.sk-estimator:hover {background-color: #d4ebff;}#sk-container-id-1 div.sk-parallel-item::after {content: \"\";width: 100%;border-bottom: 1px solid gray;flex-grow: 1;}#sk-container-id-1 div.sk-label:hover label.sk-toggleable__label {background-color: #d4ebff;}#sk-container-id-1 div.sk-serial::before {content: \"\";position: absolute;border-left: 1px solid gray;box-sizing: border-box;top: 0;bottom: 0;left: 50%;z-index: 0;}#sk-container-id-1 div.sk-serial {display: flex;flex-direction: column;align-items: center;background-color: white;padding-right: 0.2em;padding-left: 0.2em;position: relative;}#sk-container-id-1 div.sk-item {position: relative;z-index: 1;}#sk-container-id-1 div.sk-parallel {display: flex;align-items: stretch;justify-content: center;background-color: white;position: relative;}#sk-container-id-1 div.sk-item::before, #sk-container-id-1 div.sk-parallel-item::before {content: \"\";position: absolute;border-left: 1px solid gray;box-sizing: border-box;top: 0;bottom: 0;left: 50%;z-index: -1;}#sk-container-id-1 div.sk-parallel-item {display: flex;flex-direction: column;z-index: 1;position: relative;background-color: white;}#sk-container-id-1 div.sk-parallel-item:first-child::after {align-self: flex-end;width: 50%;}#sk-container-id-1 div.sk-parallel-item:last-child::after {align-self: flex-start;width: 50%;}#sk-container-id-1 div.sk-parallel-item:only-child::after {width: 0;}#sk-container-id-1 div.sk-dashed-wrapped {border: 1px dashed gray;margin: 0 0.4em 0.5em 0.4em;box-sizing: border-box;padding-bottom: 0.4em;background-color: white;}#sk-container-id-1 div.sk-label label {font-family: monospace;font-weight: bold;display: inline-block;line-height: 1.2em;}#sk-container-id-1 div.sk-label-container {text-align: center;}#sk-container-id-1 div.sk-container {/* jupyter's `normalize.less` sets `[hidden] { display: none; }` but bootstrap.min.css set `[hidden] { display: none !important; }` so we also need the `!important` here to be able to override the default hidden behavior on the sphinx rendered scikit-learn.org. See: https://github.com/scikit-learn/scikit-learn/issues/21755 */display: inline-block !important;position: relative;}#sk-container-id-1 div.sk-text-repr-fallback {display: none;}</style><div id=\"sk-container-id-1\" class=\"sk-top-container\"><div class=\"sk-text-repr-fallback\"><pre>RandomForestRegressor(random_state=42)</pre><b>In a Jupyter environment, please rerun this cell to show the HTML representation or trust the notebook. <br />On GitHub, the HTML representation is unable to render, please try loading this page with nbviewer.org.</b></div><div class=\"sk-container\" hidden><div class=\"sk-item\"><div class=\"sk-estimator sk-toggleable\"><input class=\"sk-toggleable__control sk-hidden--visually\" id=\"sk-estimator-id-1\" type=\"checkbox\" checked><label for=\"sk-estimator-id-1\" class=\"sk-toggleable__label sk-toggleable__label-arrow\">RandomForestRegressor</label><div class=\"sk-toggleable__content\"><pre>RandomForestRegressor(random_state=42)</pre></div></div></div></div></div>"
            ]
          },
          "metadata": {},
          "execution_count": 8
        }
      ]
    },
    {
      "cell_type": "code",
      "source": [
        "test_features = vectorizer.transform(test['TITLE'].fillna('') + ' ' + test['DESCRIPTION'].fillna('') + ' ' + test['BULLET_POINTS'].fillna(''))\n",
        "test_predictions = model.predict(test_features)"
      ],
      "metadata": {
        "id": "GxIOXpws6a1t"
      },
      "execution_count": null,
      "outputs": []
    },
    {
      "cell_type": "code",
      "source": [
        "test_predictions = [max(0, pred) for pred in test_predictions]\n",
        "submission_df = pd.DataFrame({'PRODUCT_ID': test['PRODUCT_ID'], 'PRODUCT_LENGTH': test_predictions})"
      ],
      "metadata": {
        "id": "aqS_7M2T7r6D"
      },
      "execution_count": null,
      "outputs": []
    },
    {
      "cell_type": "code",
      "source": [
        "submission_df.to_csv('submissionnew.csv', index=False)"
      ],
      "metadata": {
        "id": "mFNbUEj07xiH"
      },
      "execution_count": null,
      "outputs": []
    }
  ]
}
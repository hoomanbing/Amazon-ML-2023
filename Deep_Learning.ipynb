{
  "nbformat": 4,
  "nbformat_minor": 0,
  "metadata": {
    "colab": {
      "provenance": [],
      "mount_file_id": "14tiIZW6zVRbC_CbFLL4K3LfomurnN8xU",
      "authorship_tag": "ABX9TyNOEVzbx6GnSiO3lHJjdNKg"
    },
    "kernelspec": {
      "name": "python3",
      "display_name": "Python 3"
    },
    "language_info": {
      "name": "python"
    }
  },
  "cells": [
    {
      "cell_type": "code",
      "source": [
        "import pandas as pd\n",
        "import numpy as np\n",
        "import tensorflow as tf\n",
        "from tensorflow.keras.preprocessing.text import Tokenizer\n",
        "from tensorflow.keras.preprocessing.sequence import pad_sequences\n",
        "from tensorflow.keras.layers import Input, Embedding, Conv1D, MaxPooling1D, Flatten, Dense\n",
        "from tensorflow.keras.models import Model\n",
        "from sklearn.model_selection import train_test_split"
      ],
      "metadata": {
        "id": "eNiHmdDZjEeS"
      },
      "execution_count": 1,
      "outputs": []
    },
    {
      "cell_type": "code",
      "source": [
        "from google.colab import drive\n",
        "drive.mount('/content/drive')"
      ],
      "metadata": {
        "colab": {
          "base_uri": "https://localhost:8080/"
        },
        "id": "PutyXmMNjMT1",
        "outputId": "c166c741-fb6e-49a1-c923-d0a0fb691388"
      },
      "execution_count": 2,
      "outputs": [
        {
          "output_type": "stream",
          "name": "stdout",
          "text": [
            "Drive already mounted at /content/drive; to attempt to forcibly remount, call drive.mount(\"/content/drive\", force_remount=True).\n"
          ]
        }
      ]
    },
    {
      "cell_type": "code",
      "source": [
        "test_df = pd.read_csv(\"/content/drive/MyDrive/dataset/test.csv\")"
      ],
      "metadata": {
        "id": "Snj6GYfWkVMY"
      },
      "execution_count": 3,
      "outputs": []
    },
    {
      "cell_type": "code",
      "source": [
        "test_df"
      ],
      "metadata": {
        "colab": {
          "base_uri": "https://localhost:8080/",
          "height": 423
        },
        "id": "qNf3SY_Pkmf-",
        "outputId": "96a6aa59-e2b7-4670-846d-9fe675fa37ca"
      },
      "execution_count": 4,
      "outputs": [
        {
          "output_type": "execute_result",
          "data": {
            "text/plain": [
              "        PRODUCT_ID                                              TITLE  \\\n",
              "0           604373  Manuel d'Héliogravure Et de Photogravure En Re...   \n",
              "1          1729783  DCGARING Microfiber Throw Blanket Warm Fuzzy P...   \n",
              "2          1871949  I-Match Auto Parts Front License Plate Bracket...   \n",
              "3          1107571  PinMart Gold Plated Excellence in Service 1 Ye...   \n",
              "4           624253  Visual Mathematics, Illustrated by the TI-92 a...   \n",
              "...            ...                                                ...   \n",
              "734731      921419  Casual Canine Basic Hoodie for Dogs, 16\" Mediu...   \n",
              "734732     2456362  Dive Log Book: Scuba Diving Logbook for Beginn...   \n",
              "734733      841529  Axor 39135001 Citterio Widespread Faucet with ...   \n",
              "734734     1190194  Caroline's Treasures BB1801DS812 Halloween Bas...   \n",
              "734735     1040810  Amsahr 18C1623 Lexmark X3530 Remanufactured Re...   \n",
              "\n",
              "                                            BULLET_POINTS  \\\n",
              "0                                                     NaN   \n",
              "1       [QUALITY GUARANTEED: Luxury cozy plush polyest...   \n",
              "2       [Front License Plate Bracket Made Of Plastic,D...   \n",
              "3       [Available as a single item or bulk packed. Se...   \n",
              "4                                                     NaN   \n",
              "...                                                   ...   \n",
              "734731  [Brightly colored pet sweatshirts with authent...   \n",
              "734732                                                NaN   \n",
              "734733  [8-Inch centers,1/2-Inch IPS inlets,9-Inch spo...   \n",
              "734734  [Indoor or outdoor aluminum artwork prints,8 i...   \n",
              "734735  [Engineered and Manufactured Under European St...   \n",
              "\n",
              "                                              DESCRIPTION  PRODUCT_TYPE_ID  \n",
              "0                                                     NaN             6142  \n",
              "1       <b>DCGARING Throw Blanket</b><br><br> <b>Size ...             1622  \n",
              "2       Replacement for The Following Vehicles:2020 LE...             7540  \n",
              "3       Our Excellence in Service Lapel Pins feature a...            12442  \n",
              "4                                                     NaN             6318  \n",
              "...                                                   ...              ...  \n",
              "734731  ZA6015 16 43 Size-See Chart Below: Medium: 16\"...             7073  \n",
              "734732                                                NaN                1  \n",
              "734733  39135001 Features: -ADA compliant. -Includes p...            10645  \n",
              "734734  Features. Great for inside or outside these Al...            12680  \n",
              "734735  Our Remanufactured Replacement Lexmark Ink Car...                0  \n",
              "\n",
              "[734736 rows x 5 columns]"
            ],
            "text/html": [
              "\n",
              "  <div id=\"df-9ee38c79-2312-4d5b-a902-8a5ee0b03da5\">\n",
              "    <div class=\"colab-df-container\">\n",
              "      <div>\n",
              "<style scoped>\n",
              "    .dataframe tbody tr th:only-of-type {\n",
              "        vertical-align: middle;\n",
              "    }\n",
              "\n",
              "    .dataframe tbody tr th {\n",
              "        vertical-align: top;\n",
              "    }\n",
              "\n",
              "    .dataframe thead th {\n",
              "        text-align: right;\n",
              "    }\n",
              "</style>\n",
              "<table border=\"1\" class=\"dataframe\">\n",
              "  <thead>\n",
              "    <tr style=\"text-align: right;\">\n",
              "      <th></th>\n",
              "      <th>PRODUCT_ID</th>\n",
              "      <th>TITLE</th>\n",
              "      <th>BULLET_POINTS</th>\n",
              "      <th>DESCRIPTION</th>\n",
              "      <th>PRODUCT_TYPE_ID</th>\n",
              "    </tr>\n",
              "  </thead>\n",
              "  <tbody>\n",
              "    <tr>\n",
              "      <th>0</th>\n",
              "      <td>604373</td>\n",
              "      <td>Manuel d'Héliogravure Et de Photogravure En Re...</td>\n",
              "      <td>NaN</td>\n",
              "      <td>NaN</td>\n",
              "      <td>6142</td>\n",
              "    </tr>\n",
              "    <tr>\n",
              "      <th>1</th>\n",
              "      <td>1729783</td>\n",
              "      <td>DCGARING Microfiber Throw Blanket Warm Fuzzy P...</td>\n",
              "      <td>[QUALITY GUARANTEED: Luxury cozy plush polyest...</td>\n",
              "      <td>&lt;b&gt;DCGARING Throw Blanket&lt;/b&gt;&lt;br&gt;&lt;br&gt; &lt;b&gt;Size ...</td>\n",
              "      <td>1622</td>\n",
              "    </tr>\n",
              "    <tr>\n",
              "      <th>2</th>\n",
              "      <td>1871949</td>\n",
              "      <td>I-Match Auto Parts Front License Plate Bracket...</td>\n",
              "      <td>[Front License Plate Bracket Made Of Plastic,D...</td>\n",
              "      <td>Replacement for The Following Vehicles:2020 LE...</td>\n",
              "      <td>7540</td>\n",
              "    </tr>\n",
              "    <tr>\n",
              "      <th>3</th>\n",
              "      <td>1107571</td>\n",
              "      <td>PinMart Gold Plated Excellence in Service 1 Ye...</td>\n",
              "      <td>[Available as a single item or bulk packed. Se...</td>\n",
              "      <td>Our Excellence in Service Lapel Pins feature a...</td>\n",
              "      <td>12442</td>\n",
              "    </tr>\n",
              "    <tr>\n",
              "      <th>4</th>\n",
              "      <td>624253</td>\n",
              "      <td>Visual Mathematics, Illustrated by the TI-92 a...</td>\n",
              "      <td>NaN</td>\n",
              "      <td>NaN</td>\n",
              "      <td>6318</td>\n",
              "    </tr>\n",
              "    <tr>\n",
              "      <th>...</th>\n",
              "      <td>...</td>\n",
              "      <td>...</td>\n",
              "      <td>...</td>\n",
              "      <td>...</td>\n",
              "      <td>...</td>\n",
              "    </tr>\n",
              "    <tr>\n",
              "      <th>734731</th>\n",
              "      <td>921419</td>\n",
              "      <td>Casual Canine Basic Hoodie for Dogs, 16\" Mediu...</td>\n",
              "      <td>[Brightly colored pet sweatshirts with authent...</td>\n",
              "      <td>ZA6015 16 43 Size-See Chart Below: Medium: 16\"...</td>\n",
              "      <td>7073</td>\n",
              "    </tr>\n",
              "    <tr>\n",
              "      <th>734732</th>\n",
              "      <td>2456362</td>\n",
              "      <td>Dive Log Book: Scuba Diving Logbook for Beginn...</td>\n",
              "      <td>NaN</td>\n",
              "      <td>NaN</td>\n",
              "      <td>1</td>\n",
              "    </tr>\n",
              "    <tr>\n",
              "      <th>734733</th>\n",
              "      <td>841529</td>\n",
              "      <td>Axor 39135001 Citterio Widespread Faucet with ...</td>\n",
              "      <td>[8-Inch centers,1/2-Inch IPS inlets,9-Inch spo...</td>\n",
              "      <td>39135001 Features: -ADA compliant. -Includes p...</td>\n",
              "      <td>10645</td>\n",
              "    </tr>\n",
              "    <tr>\n",
              "      <th>734734</th>\n",
              "      <td>1190194</td>\n",
              "      <td>Caroline's Treasures BB1801DS812 Halloween Bas...</td>\n",
              "      <td>[Indoor or outdoor aluminum artwork prints,8 i...</td>\n",
              "      <td>Features. Great for inside or outside these Al...</td>\n",
              "      <td>12680</td>\n",
              "    </tr>\n",
              "    <tr>\n",
              "      <th>734735</th>\n",
              "      <td>1040810</td>\n",
              "      <td>Amsahr 18C1623 Lexmark X3530 Remanufactured Re...</td>\n",
              "      <td>[Engineered and Manufactured Under European St...</td>\n",
              "      <td>Our Remanufactured Replacement Lexmark Ink Car...</td>\n",
              "      <td>0</td>\n",
              "    </tr>\n",
              "  </tbody>\n",
              "</table>\n",
              "<p>734736 rows × 5 columns</p>\n",
              "</div>\n",
              "      <button class=\"colab-df-convert\" onclick=\"convertToInteractive('df-9ee38c79-2312-4d5b-a902-8a5ee0b03da5')\"\n",
              "              title=\"Convert this dataframe to an interactive table.\"\n",
              "              style=\"display:none;\">\n",
              "        \n",
              "  <svg xmlns=\"http://www.w3.org/2000/svg\" height=\"24px\"viewBox=\"0 0 24 24\"\n",
              "       width=\"24px\">\n",
              "    <path d=\"M0 0h24v24H0V0z\" fill=\"none\"/>\n",
              "    <path d=\"M18.56 5.44l.94 2.06.94-2.06 2.06-.94-2.06-.94-.94-2.06-.94 2.06-2.06.94zm-11 1L8.5 8.5l.94-2.06 2.06-.94-2.06-.94L8.5 2.5l-.94 2.06-2.06.94zm10 10l.94 2.06.94-2.06 2.06-.94-2.06-.94-.94-2.06-.94 2.06-2.06.94z\"/><path d=\"M17.41 7.96l-1.37-1.37c-.4-.4-.92-.59-1.43-.59-.52 0-1.04.2-1.43.59L10.3 9.45l-7.72 7.72c-.78.78-.78 2.05 0 2.83L4 21.41c.39.39.9.59 1.41.59.51 0 1.02-.2 1.41-.59l7.78-7.78 2.81-2.81c.8-.78.8-2.07 0-2.86zM5.41 20L4 18.59l7.72-7.72 1.47 1.35L5.41 20z\"/>\n",
              "  </svg>\n",
              "      </button>\n",
              "      \n",
              "  <style>\n",
              "    .colab-df-container {\n",
              "      display:flex;\n",
              "      flex-wrap:wrap;\n",
              "      gap: 12px;\n",
              "    }\n",
              "\n",
              "    .colab-df-convert {\n",
              "      background-color: #E8F0FE;\n",
              "      border: none;\n",
              "      border-radius: 50%;\n",
              "      cursor: pointer;\n",
              "      display: none;\n",
              "      fill: #1967D2;\n",
              "      height: 32px;\n",
              "      padding: 0 0 0 0;\n",
              "      width: 32px;\n",
              "    }\n",
              "\n",
              "    .colab-df-convert:hover {\n",
              "      background-color: #E2EBFA;\n",
              "      box-shadow: 0px 1px 2px rgba(60, 64, 67, 0.3), 0px 1px 3px 1px rgba(60, 64, 67, 0.15);\n",
              "      fill: #174EA6;\n",
              "    }\n",
              "\n",
              "    [theme=dark] .colab-df-convert {\n",
              "      background-color: #3B4455;\n",
              "      fill: #D2E3FC;\n",
              "    }\n",
              "\n",
              "    [theme=dark] .colab-df-convert:hover {\n",
              "      background-color: #434B5C;\n",
              "      box-shadow: 0px 1px 3px 1px rgba(0, 0, 0, 0.15);\n",
              "      filter: drop-shadow(0px 1px 2px rgba(0, 0, 0, 0.3));\n",
              "      fill: #FFFFFF;\n",
              "    }\n",
              "  </style>\n",
              "\n",
              "      <script>\n",
              "        const buttonEl =\n",
              "          document.querySelector('#df-9ee38c79-2312-4d5b-a902-8a5ee0b03da5 button.colab-df-convert');\n",
              "        buttonEl.style.display =\n",
              "          google.colab.kernel.accessAllowed ? 'block' : 'none';\n",
              "\n",
              "        async function convertToInteractive(key) {\n",
              "          const element = document.querySelector('#df-9ee38c79-2312-4d5b-a902-8a5ee0b03da5');\n",
              "          const dataTable =\n",
              "            await google.colab.kernel.invokeFunction('convertToInteractive',\n",
              "                                                     [key], {});\n",
              "          if (!dataTable) return;\n",
              "\n",
              "          const docLinkHtml = 'Like what you see? Visit the ' +\n",
              "            '<a target=\"_blank\" href=https://colab.research.google.com/notebooks/data_table.ipynb>data table notebook</a>'\n",
              "            + ' to learn more about interactive tables.';\n",
              "          element.innerHTML = '';\n",
              "          dataTable['output_type'] = 'display_data';\n",
              "          await google.colab.output.renderOutput(dataTable, element);\n",
              "          const docLink = document.createElement('div');\n",
              "          docLink.innerHTML = docLinkHtml;\n",
              "          element.appendChild(docLink);\n",
              "        }\n",
              "      </script>\n",
              "    </div>\n",
              "  </div>\n",
              "  "
            ]
          },
          "metadata": {},
          "execution_count": 4
        }
      ]
    },
    {
      "cell_type": "code",
      "source": [
        "train_df = pd.read_csv(\"/content/drive/MyDrive/dataset/train.csv\")"
      ],
      "metadata": {
        "id": "TZUIZTSDkoy2"
      },
      "execution_count": 5,
      "outputs": []
    },
    {
      "cell_type": "code",
      "source": [
        "train_df"
      ],
      "metadata": {
        "colab": {
          "base_uri": "https://localhost:8080/",
          "height": 606
        },
        "id": "vnLi3lmwkv8p",
        "outputId": "a3907126-7a20-4b3e-ab81-cfd2641811b2"
      },
      "execution_count": 6,
      "outputs": [
        {
          "output_type": "execute_result",
          "data": {
            "text/plain": [
              "         PRODUCT_ID                                              TITLE  \\\n",
              "0           1925202  ArtzFolio Tulip Flowers Blackout Curtain for D...   \n",
              "1           2673191  Marks & Spencer Girls' Pyjama Sets T86_2561C_N...   \n",
              "2           2765088  PRIKNIK Horn Red Electric Air Horn Compressor ...   \n",
              "3           1594019  ALISHAH Women's Cotton Ankle Length Leggings C...   \n",
              "4            283658  The United Empire Loyalists: A Chronicle of th...   \n",
              "...             ...                                                ...   \n",
              "2249693     2422167  Nike Women's As W Ny Df Swsh Hn Kh Bra (CZ7610...   \n",
              "2249694     2766635  (3PCS) Goose Game Cute Cartoon Enamel Pins, Fu...   \n",
              "2249695     1987786  Kangroo Sweep Movement Printed Wooden Wall Clo...   \n",
              "2249696     1165754  Electro Voice EKX-BRKT15 | Wall Mount Bracket ...   \n",
              "2249697     1072666  Skyjacker C7360SP Component Box For PN[C7360PK...   \n",
              "\n",
              "                                             BULLET_POINTS  \\\n",
              "0        [LUXURIOUS & APPEALING: Beautiful custom-made ...   \n",
              "1        [Harry Potter Hedwig Pyjamas (6-16 Yrs),100% c...   \n",
              "2        [Loud Dual Tone Trumpet Horn, Compatible With ...   \n",
              "3        [Made By 95%cotton and 5% Lycra which gives yo...   \n",
              "4                                                      NaN   \n",
              "...                                                    ...   \n",
              "2249693                               Material : Polyester   \n",
              "2249694  [❤ [Inspiration] Inspired by the Untitled Goos...   \n",
              "2249695  [Dial size: 12 inches in diameter,Big, clear r...   \n",
              "2249696                                                NaN   \n",
              "2249697  [Component Box For PN[C7360PK],4 in. Lift,Incl...   \n",
              "\n",
              "                                               DESCRIPTION  PRODUCT_TYPE_ID  \\\n",
              "0                                                      NaN             1650   \n",
              "1                                                      NaN             2755   \n",
              "2        Specifications: Color: Red, Material: Aluminiu...             7537   \n",
              "3        AISHAH Women's Lycra Cotton Ankel Leggings. Br...             2996   \n",
              "4                                                      NaN             6112   \n",
              "...                                                    ...              ...   \n",
              "2249693                                                NaN             3009   \n",
              "2249694  <p><b>[Brand]: </b>XVIEONR</p> <p><br></p> <p>...             3413   \n",
              "2249695  Wall Clocks Are Very Attractive In Looks And E...             1574   \n",
              "2249696                                                NaN              592   \n",
              "2249697  Skyjacker C7360SP Component Box For PN[C7360PK...             7367   \n",
              "\n",
              "         PRODUCT_LENGTH  \n",
              "0           2125.980000  \n",
              "1            393.700000  \n",
              "2            748.031495  \n",
              "3            787.401574  \n",
              "4            598.424000  \n",
              "...                 ...  \n",
              "2249693     1181.100000  \n",
              "2249694      125.984252  \n",
              "2249695     1200.000000  \n",
              "2249696     2900.000000  \n",
              "2249697     2000.000000  \n",
              "\n",
              "[2249698 rows x 6 columns]"
            ],
            "text/html": [
              "\n",
              "  <div id=\"df-378f464a-4725-445b-a98f-a67913bbf3d1\">\n",
              "    <div class=\"colab-df-container\">\n",
              "      <div>\n",
              "<style scoped>\n",
              "    .dataframe tbody tr th:only-of-type {\n",
              "        vertical-align: middle;\n",
              "    }\n",
              "\n",
              "    .dataframe tbody tr th {\n",
              "        vertical-align: top;\n",
              "    }\n",
              "\n",
              "    .dataframe thead th {\n",
              "        text-align: right;\n",
              "    }\n",
              "</style>\n",
              "<table border=\"1\" class=\"dataframe\">\n",
              "  <thead>\n",
              "    <tr style=\"text-align: right;\">\n",
              "      <th></th>\n",
              "      <th>PRODUCT_ID</th>\n",
              "      <th>TITLE</th>\n",
              "      <th>BULLET_POINTS</th>\n",
              "      <th>DESCRIPTION</th>\n",
              "      <th>PRODUCT_TYPE_ID</th>\n",
              "      <th>PRODUCT_LENGTH</th>\n",
              "    </tr>\n",
              "  </thead>\n",
              "  <tbody>\n",
              "    <tr>\n",
              "      <th>0</th>\n",
              "      <td>1925202</td>\n",
              "      <td>ArtzFolio Tulip Flowers Blackout Curtain for D...</td>\n",
              "      <td>[LUXURIOUS &amp; APPEALING: Beautiful custom-made ...</td>\n",
              "      <td>NaN</td>\n",
              "      <td>1650</td>\n",
              "      <td>2125.980000</td>\n",
              "    </tr>\n",
              "    <tr>\n",
              "      <th>1</th>\n",
              "      <td>2673191</td>\n",
              "      <td>Marks &amp; Spencer Girls' Pyjama Sets T86_2561C_N...</td>\n",
              "      <td>[Harry Potter Hedwig Pyjamas (6-16 Yrs),100% c...</td>\n",
              "      <td>NaN</td>\n",
              "      <td>2755</td>\n",
              "      <td>393.700000</td>\n",
              "    </tr>\n",
              "    <tr>\n",
              "      <th>2</th>\n",
              "      <td>2765088</td>\n",
              "      <td>PRIKNIK Horn Red Electric Air Horn Compressor ...</td>\n",
              "      <td>[Loud Dual Tone Trumpet Horn, Compatible With ...</td>\n",
              "      <td>Specifications: Color: Red, Material: Aluminiu...</td>\n",
              "      <td>7537</td>\n",
              "      <td>748.031495</td>\n",
              "    </tr>\n",
              "    <tr>\n",
              "      <th>3</th>\n",
              "      <td>1594019</td>\n",
              "      <td>ALISHAH Women's Cotton Ankle Length Leggings C...</td>\n",
              "      <td>[Made By 95%cotton and 5% Lycra which gives yo...</td>\n",
              "      <td>AISHAH Women's Lycra Cotton Ankel Leggings. Br...</td>\n",
              "      <td>2996</td>\n",
              "      <td>787.401574</td>\n",
              "    </tr>\n",
              "    <tr>\n",
              "      <th>4</th>\n",
              "      <td>283658</td>\n",
              "      <td>The United Empire Loyalists: A Chronicle of th...</td>\n",
              "      <td>NaN</td>\n",
              "      <td>NaN</td>\n",
              "      <td>6112</td>\n",
              "      <td>598.424000</td>\n",
              "    </tr>\n",
              "    <tr>\n",
              "      <th>...</th>\n",
              "      <td>...</td>\n",
              "      <td>...</td>\n",
              "      <td>...</td>\n",
              "      <td>...</td>\n",
              "      <td>...</td>\n",
              "      <td>...</td>\n",
              "    </tr>\n",
              "    <tr>\n",
              "      <th>2249693</th>\n",
              "      <td>2422167</td>\n",
              "      <td>Nike Women's As W Ny Df Swsh Hn Kh Bra (CZ7610...</td>\n",
              "      <td>Material : Polyester</td>\n",
              "      <td>NaN</td>\n",
              "      <td>3009</td>\n",
              "      <td>1181.100000</td>\n",
              "    </tr>\n",
              "    <tr>\n",
              "      <th>2249694</th>\n",
              "      <td>2766635</td>\n",
              "      <td>(3PCS) Goose Game Cute Cartoon Enamel Pins, Fu...</td>\n",
              "      <td>[❤ [Inspiration] Inspired by the Untitled Goos...</td>\n",
              "      <td>&lt;p&gt;&lt;b&gt;[Brand]: &lt;/b&gt;XVIEONR&lt;/p&gt; &lt;p&gt;&lt;br&gt;&lt;/p&gt; &lt;p&gt;...</td>\n",
              "      <td>3413</td>\n",
              "      <td>125.984252</td>\n",
              "    </tr>\n",
              "    <tr>\n",
              "      <th>2249695</th>\n",
              "      <td>1987786</td>\n",
              "      <td>Kangroo Sweep Movement Printed Wooden Wall Clo...</td>\n",
              "      <td>[Dial size: 12 inches in diameter,Big, clear r...</td>\n",
              "      <td>Wall Clocks Are Very Attractive In Looks And E...</td>\n",
              "      <td>1574</td>\n",
              "      <td>1200.000000</td>\n",
              "    </tr>\n",
              "    <tr>\n",
              "      <th>2249696</th>\n",
              "      <td>1165754</td>\n",
              "      <td>Electro Voice EKX-BRKT15 | Wall Mount Bracket ...</td>\n",
              "      <td>NaN</td>\n",
              "      <td>NaN</td>\n",
              "      <td>592</td>\n",
              "      <td>2900.000000</td>\n",
              "    </tr>\n",
              "    <tr>\n",
              "      <th>2249697</th>\n",
              "      <td>1072666</td>\n",
              "      <td>Skyjacker C7360SP Component Box For PN[C7360PK...</td>\n",
              "      <td>[Component Box For PN[C7360PK],4 in. Lift,Incl...</td>\n",
              "      <td>Skyjacker C7360SP Component Box For PN[C7360PK...</td>\n",
              "      <td>7367</td>\n",
              "      <td>2000.000000</td>\n",
              "    </tr>\n",
              "  </tbody>\n",
              "</table>\n",
              "<p>2249698 rows × 6 columns</p>\n",
              "</div>\n",
              "      <button class=\"colab-df-convert\" onclick=\"convertToInteractive('df-378f464a-4725-445b-a98f-a67913bbf3d1')\"\n",
              "              title=\"Convert this dataframe to an interactive table.\"\n",
              "              style=\"display:none;\">\n",
              "        \n",
              "  <svg xmlns=\"http://www.w3.org/2000/svg\" height=\"24px\"viewBox=\"0 0 24 24\"\n",
              "       width=\"24px\">\n",
              "    <path d=\"M0 0h24v24H0V0z\" fill=\"none\"/>\n",
              "    <path d=\"M18.56 5.44l.94 2.06.94-2.06 2.06-.94-2.06-.94-.94-2.06-.94 2.06-2.06.94zm-11 1L8.5 8.5l.94-2.06 2.06-.94-2.06-.94L8.5 2.5l-.94 2.06-2.06.94zm10 10l.94 2.06.94-2.06 2.06-.94-2.06-.94-.94-2.06-.94 2.06-2.06.94z\"/><path d=\"M17.41 7.96l-1.37-1.37c-.4-.4-.92-.59-1.43-.59-.52 0-1.04.2-1.43.59L10.3 9.45l-7.72 7.72c-.78.78-.78 2.05 0 2.83L4 21.41c.39.39.9.59 1.41.59.51 0 1.02-.2 1.41-.59l7.78-7.78 2.81-2.81c.8-.78.8-2.07 0-2.86zM5.41 20L4 18.59l7.72-7.72 1.47 1.35L5.41 20z\"/>\n",
              "  </svg>\n",
              "      </button>\n",
              "      \n",
              "  <style>\n",
              "    .colab-df-container {\n",
              "      display:flex;\n",
              "      flex-wrap:wrap;\n",
              "      gap: 12px;\n",
              "    }\n",
              "\n",
              "    .colab-df-convert {\n",
              "      background-color: #E8F0FE;\n",
              "      border: none;\n",
              "      border-radius: 50%;\n",
              "      cursor: pointer;\n",
              "      display: none;\n",
              "      fill: #1967D2;\n",
              "      height: 32px;\n",
              "      padding: 0 0 0 0;\n",
              "      width: 32px;\n",
              "    }\n",
              "\n",
              "    .colab-df-convert:hover {\n",
              "      background-color: #E2EBFA;\n",
              "      box-shadow: 0px 1px 2px rgba(60, 64, 67, 0.3), 0px 1px 3px 1px rgba(60, 64, 67, 0.15);\n",
              "      fill: #174EA6;\n",
              "    }\n",
              "\n",
              "    [theme=dark] .colab-df-convert {\n",
              "      background-color: #3B4455;\n",
              "      fill: #D2E3FC;\n",
              "    }\n",
              "\n",
              "    [theme=dark] .colab-df-convert:hover {\n",
              "      background-color: #434B5C;\n",
              "      box-shadow: 0px 1px 3px 1px rgba(0, 0, 0, 0.15);\n",
              "      filter: drop-shadow(0px 1px 2px rgba(0, 0, 0, 0.3));\n",
              "      fill: #FFFFFF;\n",
              "    }\n",
              "  </style>\n",
              "\n",
              "      <script>\n",
              "        const buttonEl =\n",
              "          document.querySelector('#df-378f464a-4725-445b-a98f-a67913bbf3d1 button.colab-df-convert');\n",
              "        buttonEl.style.display =\n",
              "          google.colab.kernel.accessAllowed ? 'block' : 'none';\n",
              "\n",
              "        async function convertToInteractive(key) {\n",
              "          const element = document.querySelector('#df-378f464a-4725-445b-a98f-a67913bbf3d1');\n",
              "          const dataTable =\n",
              "            await google.colab.kernel.invokeFunction('convertToInteractive',\n",
              "                                                     [key], {});\n",
              "          if (!dataTable) return;\n",
              "\n",
              "          const docLinkHtml = 'Like what you see? Visit the ' +\n",
              "            '<a target=\"_blank\" href=https://colab.research.google.com/notebooks/data_table.ipynb>data table notebook</a>'\n",
              "            + ' to learn more about interactive tables.';\n",
              "          element.innerHTML = '';\n",
              "          dataTable['output_type'] = 'display_data';\n",
              "          await google.colab.output.renderOutput(dataTable, element);\n",
              "          const docLink = document.createElement('div');\n",
              "          docLink.innerHTML = docLinkHtml;\n",
              "          element.appendChild(docLink);\n",
              "        }\n",
              "      </script>\n",
              "    </div>\n",
              "  </div>\n",
              "  "
            ]
          },
          "metadata": {},
          "execution_count": 6
        }
      ]
    },
    {
      "cell_type": "code",
      "source": [
        "train_df = train_df.sample(n=3000, random_state=42)"
      ],
      "metadata": {
        "id": "gZ2GPXNGmNub"
      },
      "execution_count": 7,
      "outputs": []
    },
    {
      "cell_type": "code",
      "source": [
        "import tensorflow as tf\n",
        "from tensorflow.keras.preprocessing.text import Tokenizer\n",
        "from tensorflow.keras.preprocessing.sequence import pad_sequences\n",
        "from tensorflow.keras.layers import (\n",
        "    Input,\n",
        "    Embedding,\n",
        "    Dense,\n",
        "    Conv1D,\n",
        "    MaxPooling1D,\n",
        "    LSTM,\n",
        "    Bidirectional,\n",
        "    concatenate,\n",
        "    Dropout,\n",
        ")\n",
        "from tensorflow.keras.models import Model"
      ],
      "metadata": {
        "id": "zsqTMHq8d0pQ"
      },
      "execution_count": 8,
      "outputs": []
    },
    {
      "cell_type": "code",
      "source": [
        "max_features = 10000\n",
        "tokenizer = Tokenizer(num_words=max_features)\n",
        "train_df['TITLE'] = train_df['TITLE'].astype(str)\n",
        "train_df['DESCRIPTION'] = train_df['DESCRIPTION'].astype(str)\n",
        "train_df['BULLET_POINTS'] = train_df['BULLET_POINTS'].astype(str)\n",
        "tokenizer.fit_on_texts(list(train_df['TITLE'].values) + list(train_df['DESCRIPTION'].values) + list(train_df['BULLET_POINTS'].values))\n",
        "maxlen = 300"
      ],
      "metadata": {
        "id": "lEDDMXAqd_hb"
      },
      "execution_count": 9,
      "outputs": []
    },
    {
      "cell_type": "code",
      "source": [
        "X_train_title = tokenizer.texts_to_sequences(train_df['TITLE'].values)\n",
        "X_train_desc = tokenizer.texts_to_sequences(train_df['DESCRIPTION'].values)\n",
        "X_train_bull = tokenizer.texts_to_sequences(train_df['BULLET_POINTS'].values)\n",
        "X_train_title = pad_sequences(X_train_title, maxlen=maxlen)\n",
        "X_train_desc = pad_sequences(X_train_desc, maxlen=maxlen)\n",
        "X_train_bull = pad_sequences(X_train_bull, maxlen=maxlen)"
      ],
      "metadata": {
        "id": "9OIrG1sVeTIn"
      },
      "execution_count": 10,
      "outputs": []
    },
    {
      "cell_type": "code",
      "source": [
        "type_train = train_df['PRODUCT_TYPE_ID'].values.reshape(-1, 1)\n",
        "type_test = test_df['PRODUCT_TYPE_ID'].values.reshape(-1, 1)"
      ],
      "metadata": {
        "id": "NATLvLQgeWu3"
      },
      "execution_count": 11,
      "outputs": []
    },
    {
      "cell_type": "code",
      "source": [
        "input1 = Input(shape=(maxlen,))\n",
        "x1 = Embedding(max_features, 64)(input1)\n",
        "x1 = Conv1D(filters=16, kernel_size=3, padding='same', activation='relu')(x1)\n",
        "x1 = MaxPooling1D(pool_size=2)(x1)\n",
        "x1 = Bidirectional(LSTM(32, return_sequences=True))(x1)\n",
        "x1 = Bidirectional(LSTM(16))(x1)\n",
        "input2 = Input(shape=(1,))\n",
        "x2 = Dense(8, activation='relu')(input2)"
      ],
      "metadata": {
        "id": "eJcygsUKeq0V"
      },
      "execution_count": 12,
      "outputs": []
    },
    {
      "cell_type": "code",
      "source": [
        "concat = concatenate([x1, x2])\n",
        "output = Dense(1)(concat)\n",
        "model = Model(inputs=[input1, input2], outputs=output)\n",
        "model.compile(loss='mse', optimizer='adam')"
      ],
      "metadata": {
        "id": "4vjGpQ0mevW6"
      },
      "execution_count": 13,
      "outputs": []
    },
    {
      "cell_type": "code",
      "source": [
        "batch_size = 16\n",
        "epochs = 3\n",
        "num_train_samples = X_train_title.shape[0]\n",
        "num_train_steps = num_train_samples // batch_size"
      ],
      "metadata": {
        "id": "KvnuLRl4msyg"
      },
      "execution_count": 14,
      "outputs": []
    },
    {
      "cell_type": "code",
      "source": [
        "history = model.fit(\n",
        "    [X_train_title, type_train],\n",
        "    train_df['PRODUCT_LENGTH'].values,\n",
        "    validation_split=0.2,\n",
        "    epochs=epochs,\n",
        "    batch_size=batch_size,\n",
        "    steps_per_epoch=num_train_steps,\n",
        "    verbose=1\n",
        ")"
      ],
      "metadata": {
        "colab": {
          "base_uri": "https://localhost:8080/"
        },
        "id": "kjfl_sZXex70",
        "outputId": "b5af5c02-1dd0-45df-e273-50c4be73c7ea"
      },
      "execution_count": 15,
      "outputs": [
        {
          "output_type": "stream",
          "name": "stdout",
          "text": [
            "Epoch 1/3\n",
            "187/187 [==============================] - 49s 208ms/step - loss: 23063019520.0000 - val_loss: 3571136.5000\n",
            "Epoch 2/3\n",
            "187/187 [==============================] - 35s 188ms/step - loss: 22441551872.0000 - val_loss: 3685482.2500\n",
            "Epoch 3/3\n",
            " 76/187 [===========>..................] - ETA: 20s - loss: 53586460672.0000"
          ]
        },
        {
          "output_type": "stream",
          "name": "stderr",
          "text": [
            "WARNING:tensorflow:Your input ran out of data; interrupting training. Make sure that your dataset or generator can generate at least `steps_per_epoch * epochs` batches (in this case, 561 batches). You may need to use the repeat() function when building your dataset.\n"
          ]
        },
        {
          "output_type": "stream",
          "name": "stdout",
          "text": [
            "\b\b\b\b\b\b\b\b\b\b\b\b\b\b\b\b\b\b\b\b\b\b\b\b\b\b\b\b\b\b\b\b\b\b\b\b\b\b\b\b\b\b\b\b\b\b\b\b\b\b\b\b\b\b\b\b\b\b\b\b\b\b\b\b\b\b\b\b\b\b\b\b\b\b\b\b\r187/187 [==============================] - 16s 85ms/step - loss: 53586460672.0000 - val_loss: 3826808.2500\n"
          ]
        }
      ]
    },
    {
      "cell_type": "code",
      "source": [
        "train_df = train_df.fillna('')\n",
        "test_df= test_df.fillna('')\n",
        "train_title_seq = tokenizer.texts_to_sequences(train_df['TITLE'].values)\n",
        "train_desc_seq = tokenizer.texts_to_sequences(train_df['DESCRIPTION'].values)\n",
        "train_bullet_seq = tokenizer.texts_to_sequences(train_df['BULLET_POINTS'].values)"
      ],
      "metadata": {
        "id": "uJX3sqL5e0ly"
      },
      "execution_count": 16,
      "outputs": []
    },
    {
      "cell_type": "code",
      "source": [
        "test_title_seq = tokenizer.texts_to_sequences(test_df['TITLE'].values)\n",
        "test_desc_seq = tokenizer.texts_to_sequences(test_df['DESCRIPTION'].values)\n",
        "test_bullet_seq = tokenizer.texts_to_sequences(test_df['BULLET_POINTS'].values)\n",
        "X_train_title = pad_sequences(train_title_seq, maxlen=maxlen)\n",
        "X_train_desc = pad_sequences(train_desc_seq, maxlen=maxlen)\n",
        "X_train_bullet = pad_sequences(train_bullet_seq, maxlen=maxlen)"
      ],
      "metadata": {
        "id": "a8D4Aw5Ym4wO"
      },
      "execution_count": 17,
      "outputs": []
    },
    {
      "cell_type": "code",
      "source": [
        "X_test_title = pad_sequences(test_title_seq, maxlen=maxlen)\n",
        "X_test_desc = pad_sequences(test_desc_seq, maxlen=maxlen)\n",
        "X_test_bullet = pad_sequences(test_bullet_seq, maxlen=maxlen)\n",
        "X_train = np.concatenate((X_train_title, X_train_desc, X_train_bullet), axis=1)\n",
        "X_test = np.concatenate((X_test_title, X_test_desc, X_test_bullet), axis=1)"
      ],
      "metadata": {
        "id": "rLKyndIgm7KZ"
      },
      "execution_count": 18,
      "outputs": []
    },
    {
      "cell_type": "code",
      "source": [
        "y_pred = model.predict([X_test, type_test])"
      ],
      "metadata": {
        "id": "wXvpdXmHi1Lx"
      },
      "execution_count": null,
      "outputs": []
    },
    {
      "cell_type": "code",
      "source": [
        "submission_df = pd.read_csv('sample_submission.csv')\n",
        "submission_df['PRODUCT_LENGTH'] = y_pred"
      ],
      "metadata": {
        "id": "DXDZEysEjGMD"
      },
      "execution_count": null,
      "outputs": []
    },
    {
      "cell_type": "code",
      "source": [
        "submission_df"
      ],
      "metadata": {
        "id": "J6Gkcc6zjKEh"
      },
      "execution_count": null,
      "outputs": []
    }
  ]
}